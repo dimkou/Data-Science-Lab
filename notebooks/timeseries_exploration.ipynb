{
 "cells": [
  {
   "cell_type": "code",
   "execution_count": 20,
   "metadata": {},
   "outputs": [],
   "source": [
    "import h5py\n",
    "import numpy as np\n",
    "import matplotlib.pyplot as plt\n"
   ]
  },
  {
   "cell_type": "code",
   "execution_count": 2,
   "metadata": {
    "collapsed": true
   },
   "outputs": [
    {
     "name": "stdout",
     "output_type": "stream",
     "text": [
      "1137\n['CP07', 'U&T', 'U65', 'ZPOL_temp', 'temp_60_70', 'temp_60_90', 'temp_80_90', 'wind_60', 'wind_65']\n"
     ]
    }
   ],
   "source": [
    "\n",
    "data_file_directory = '/home/orhun/PycharmProjects/DSL2018-Proj-Climate-Science/data/data_preprocessed_labeled.h5'\n",
    "\n",
    "# Load data from h5 file\n",
    "f = h5py.File(data_file_directory, 'r')\n",
    "\n",
    "# Get year list\n",
    "keys = list(f.keys())\n",
    "print(len(keys))\n",
    "\n",
    "# Get feature names for the first example\n",
    "a = f[keys[0]]\n",
    "print(list(a.keys()))\n",
    "\n",
    "# Data fields that we need\n",
    "data_fields = \\\n",
    "        ['wind_60', 'wind_65', 'CP07', \"U&T\", \"U65\"]\n"
   ]
  },
  {
   "cell_type": "code",
   "execution_count": 3,
   "metadata": {},
   "outputs": [
    {
     "name": "stdout",
     "output_type": "stream",
     "text": [
      "(1137, 5, 210)\n(1137, 210)\n"
     ]
    },
    {
     "data": {
      "text/plain": [
       "array([ 0.,  0.,  0.,  0.,  0.,  0.,  0.,  0.,  0.,  0.,  1.,  0.,  0.,\n        0.,  1.,  2.,  1.,  1.,  2.,  0.,  1.,  1.,  1.,  1.,  2.,  2.,\n        1.,  2.,  2.,  1.,  1.,  1.,  1.,  2.,  3.,  1.,  1.,  4.,  0.,\n        1.,  2.,  7.,  2.,  2.,  2.,  6.,  2.,  2.,  3.,  5.,  4.,  1.,\n        3.,  1.,  0.,  2.,  3.,  1.,  5.,  5.,  6.,  2.,  2.,  0.,  3.,\n        4.,  1.,  2.,  2.,  2.,  2.,  3.,  3.,  6.,  3.,  4.,  6.,  7.,\n        2.,  2.,  6.,  5.,  4.,  4.,  2.,  4.,  4.,  6.,  3.,  2., 35.,\n        5., 10.,  4.,  1.,  4.,  6.,  4.,  8., 11.,  4.,  4.,  1.,  5.,\n        8.,  6.,  0.,  5.,  5.,  5.,  2., 11.,  5.,  6.,  3.,  5.,  5.,\n        2.,  9.,  4.,  8.,  6., 14.,  7.,  5.,  8.,  3.,  3.,  6.,  6.,\n        5.,  7.,  7.,  5.,  1.,  2.,  4.,  3.,  8.,  6.,  5.,  7.,  4.,\n        5.,  8.,  6.,  9.,  7.,  1.,  5.,  3.,  4.,  5.,  4.,  6.,  4.,\n        2.,  5.,  5.,  4.,  7.,  3.,  4.,  6.,  2.,  4.,  3.,  2.,  3.,\n        4.,  1.,  2.,  7.,  2.,  3.,  4.,  5.,  2.,  4.,  6.,  0.,  0.,\n        0.,  0.,  0.,  0.,  0.,  0.,  0.,  0.,  0.,  0.,  0.,  0.,  0.,\n        0.,  0.,  0.,  0.,  0.,  0.,  0.,  0.,  0.,  0.,  0.,  0.,  0.,\n        0.,  0.])"
      ]
     },
     "execution_count": 14,
     "metadata": {},
     "output_type": "execute_result"
    }
   ],
   "source": [
    "# Get data\n",
    "\n",
    "dat = np.array(\n",
    "        [[f[key][data_field] for data_field in data_fields] for key in keys])"
   ]
  },
  {
   "cell_type": "code",
   "execution_count": 14,
   "metadata": {},
   "outputs": [
    {
     "name": "stdout",
     "output_type": "stream",
     "text": [
      "(1137, 5, 210)\n(1137, 210)\n"
     ]
    },
    {
     "data": {
      "text/plain": [
       "array([ 0.,  0.,  0.,  0.,  0.,  0.,  0.,  0.,  0.,  0.,  1.,  0.,  0.,\n        0.,  1.,  2.,  1.,  1.,  2.,  0.,  1.,  1.,  1.,  1.,  2.,  2.,\n        1.,  2.,  2.,  1.,  1.,  1.,  1.,  2.,  3.,  1.,  1.,  4.,  0.,\n        1.,  2.,  7.,  2.,  2.,  2.,  6.,  2.,  2.,  3.,  5.,  4.,  1.,\n        3.,  1.,  0.,  2.,  3.,  1.,  5.,  5.,  6.,  2.,  2.,  0.,  3.,\n        4.,  1.,  2.,  2.,  2.,  2.,  3.,  3.,  6.,  3.,  4.,  6.,  7.,\n        2.,  2.,  6.,  5.,  4.,  4.,  2.,  4.,  4.,  6.,  3.,  2., 35.,\n        5., 10.,  4.,  1.,  4.,  6.,  4.,  8., 11.,  4.,  4.,  1.,  5.,\n        8.,  6.,  0.,  5.,  5.,  5.,  2., 11.,  5.,  6.,  3.,  5.,  5.,\n        2.,  9.,  4.,  8.,  6., 14.,  7.,  5.,  8.,  3.,  3.,  6.,  6.,\n        5.,  7.,  7.,  5.,  1.,  2.,  4.,  3.,  8.,  6.,  5.,  7.,  4.,\n        5.,  8.,  6.,  9.,  7.,  1.,  5.,  3.,  4.,  5.,  4.,  6.,  4.,\n        2.,  5.,  5.,  4.,  7.,  3.,  4.,  6.,  2.,  4.,  3.,  2.,  3.,\n        4.,  1.,  2.,  7.,  2.,  3.,  4.,  5.,  2.,  4.,  6.,  0.,  0.,\n        0.,  0.,  0.,  0.,  0.,  0.,  0.,  0.,  0.,  0.,  0.,  0.,  0.,\n        0.,  0.,  0.,  0.,  0.,  0.,  0.,  0.,  0.,  0.,  0.,  0.,  0.,\n        0.,  0.])"
      ]
     },
     "execution_count": 14,
     "metadata": {},
     "output_type": "execute_result"
    }
   ],
   "source": [
    "label_index = 2 #CP07\n",
    "\n",
    "print(dat.shape)\n",
    "print(dat[:,label_index,:].shape)\n",
    "\n",
    "# Distribution of CP07 labels\n",
    "# Observe that last month is always empty CP07 --> no SSWs in April\n",
    "np.sum(dat[:,label_index,:], axis=0)"
   ]
  },
  {
   "cell_type": "code",
   "execution_count": 37,
   "metadata": {},
   "outputs": [
    {
     "name": "stdout",
     "output_type": "stream",
     "text": [
      "3.0\n92\n[[-1.28128959]\n [-1.72280995]\n [-0.02566102]]\n[[ 41]\n [138]\n [172]]\n"
     ]
    },
    {
     "data": {
      "image/png": "[encoded data removed]",
      "text/plain": [
       "<Figure size 432x288 with 1 Axes>"
      ]
     },
     "metadata": {},
     "output_type": "display_data"
    }
   ],
   "source": [
    "# Count SSWs for each winter\n",
    "winter_labels = np.sum(dat[:,label_index,:], axis=1)\n",
    "\n",
    "# Get Max # of SSWs\n",
    "print(winter_labels.max())\n",
    "\n",
    "#92 winter is interesting\n",
    "print(winter_labels.argmax())\n",
    "\n",
    "ind = np.argwhere(dat[winter_labels.argmax(),2,:] == 1)\n",
    "\n",
    "print(dat[winter_labels.argmax(),0,:][ind])\n",
    "print(ind)\n",
    "\n",
    "plt.title(\"Winter No. {}\".format(winter_labels.argmax()))\n",
    "plt.plot(dat[winter_labels.argmax(),0,:])\n",
    "for ssw in ind:\n",
    "    plt.axvline(x=ssw,color='r')\n"
   ]
  },
  {
   "cell_type": "code",
   "execution_count": null,
   "metadata": {},
   "outputs": [],
   "source": []
  }
 ],
 "metadata": {
  "kernelspec": {
   "display_name": "Python 2",
   "language": "python",
   "name": "python2"
  },
  "language_info": {
   "codemirror_mode": {
    "name": "ipython",
    "version": 2
   },
   "file_extension": ".py",
   "mimetype": "text/x-python",
   "name": "python",
   "nbconvert_exporter": "python",
   "pygments_lexer": "ipython2",
   "version": "2.7.6"
  }
 },
 "nbformat": 4,
 "nbformat_minor": 0
}
